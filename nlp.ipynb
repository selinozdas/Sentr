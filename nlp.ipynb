{
  "nbformat": 4,
  "nbformat_minor": 0,
  "metadata": {
    "colab": {
      "name": "ante.ipynb",
      "version": "0.3.2",
      "provenance": [],
      "collapsed_sections": []
    },
    "kernelspec": {
      "name": "python3",
      "display_name": "Python 3"
    }
  },
  "cells": [
    {
      "cell_type": "markdown",
      "metadata": {
        "id": "Q6WOVRXsGWNn",
        "colab_type": "text"
      },
      "source": [
        "Date: 06/17/19\n",
        "\n",
        "---\n",
        "Data:17bintweet\n",
        "\n",
        "Notr: 4658, Olumlu: 3663, Olumsuz: 5511\n",
        "\n",
        "Results:\n",
        "---\n",
        "\n",
        "\n",
        "        precision    recall  f1-score   support\n",
        "\n",
        "        notr   0.645592  0.614928  0.629887      1179\n",
        "      olumlu   0.667964  0.562227  0.610551       916\n",
        "     olumsuz   0.667519  0.765957  0.713358      1363\n",
        "\n",
        "    accuracy    -            -       0.660497      3458\n",
        "    macro avg   0.660358  0.647704  0.651266      3458\n",
        "    weighted avg   0.660161  0.660497  0.657666      3458"
      ]
    },
    {
      "cell_type": "code",
      "metadata": {
        "id": "O4iIT50bIa5p",
        "colab_type": "code",
        "colab": {}
      },
      "source": [
        "import pandas as pd\n",
        "import numpy as np\n",
        "import nltk\n",
        "import re\n",
        "import pickle\n",
        "from google.colab import drive\n",
        "from sklearn.model_selection import train_test_split\n",
        "from sklearn.feature_extraction.text import CountVectorizer\n",
        "from sklearn.linear_model import LogisticRegression\n",
        "from sklearn.metrics import roc_auc_score\n",
        "from sklearn.feature_extraction.text import TfidfVectorizer\n",
        "from sklearn.externals import joblib\n",
        "from sklearn.metrics import roc_auc_score\n",
        "from sklearn import model_selection\n",
        "from sklearn.metrics import classification_report, confusion_matrix\n",
        "import matplotlib as plt"
      ],
      "execution_count": 0,
      "outputs": []
    },
    {
      "cell_type": "code",
      "metadata": {
        "id": "5JVDzXD0kMBi",
        "colab_type": "code",
        "outputId": "e0b8439e-4999-44b3-80b7-e4456769ee36",
        "colab": {
          "base_uri": "https://localhost:8080/",
          "height": 52
        }
      },
      "source": [
        "drive.mount('/content/gdrive')\n",
        "!ls /content/gdrive/My\\ Drive/Ante/17bintweet"
      ],
      "execution_count": 246,
      "outputs": [
        {
          "output_type": "stream",
          "text": [
            "Drive already mounted at /content/gdrive; to attempt to forcibly remount, call drive.mount(\"/content/gdrive\", force_remount=True).\n",
            "okubeni.doc  test_tweets.xlsx  train_tweets.xlsx\n"
          ],
          "name": "stdout"
        }
      ]
    },
    {
      "cell_type": "markdown",
      "metadata": {
        "id": "KrFJwaXqNBpd",
        "colab_type": "text"
      },
      "source": [
        "## Variables"
      ]
    },
    {
      "cell_type": "code",
      "metadata": {
        "id": "liwmSNpGJH7t",
        "colab_type": "code",
        "colab": {}
      },
      "source": [
        "pos_adj = ['kusursuz','iyi','muthis','harika','idare eder','guzel','akli','aktif','alakadar','alakali','alisilmis','analitik','animsatici','antrenmanli','atak','aydinlatici','ayrintici','bagdastirici','bagimsiz','berk','betimleyici','bilindik','bilinen','bilissel','birinci','bitirim','ciddi',\n",
        "        'curetkar','cabuk','cocuk ruhlu','cogulcu','cok yonlu','cozumlemeci','dayanakli','denetimli','dengeci','denk','destekci','detayli','diplomali','disiplinli','dogal','dominant','duyarli','dusunceli','eriskin','gercekci','gururlu',\n",
        "        'haberli','hareketli','hassas','hatirlatici','hesapci','heyecanli','idareci','iddiali','ilgili','itaatkar','itaatli','kararli','kendi halinde','kuralli','mantiksal','metotlu','net','normal','organize','otoriteli','otoriter','olculu','mutevazi','caliskan',\n",
        "        'oncelikli','parlak','pozitif','sakin','sistematik','sistemli','standartli','tarafsiz','toleransli','uyanik','yardimci','yatistirici','yatkin','dengeli','duygusal','etkili','gonullu','is birlikci','verimli','nazik','komik','bilge','akilli',\n",
        "        'narin','planli','programli','sabirli','teskilatli','tutkulu','uzlasmaci','aciklayici','becerikli','bilgili','bilincli','cesaretli','dayanikli','degerli','deneyimli','dikkatli','dinamik','disiplinli','duyarli','durust','duzenli','duzeyli',\n",
        "        'egitimli','gayretli','hazirlikli','sorunsuz','idealist','ileri goruslu','istekli','ise uygun','iyi','kidemli','mantikli','nezaketli','nitelikli','prezantabl','profesyonel','sagduyulu','tedbirli','temkinli','uzman','vasifli','yaratici','adaletli','adil',\n",
        "        'akilli','caliskan','dakik','enerjik','hakli','kaliteli','optimist','olumlu','rasyonel','tutarli','uyumlu','uretken','verimli','yararli','yardimsever','yenilikci','yetenekli']\n",
        "neg_adj = ['kusurlu','arizali','bozuk','kirik','suratsiz','mahvetti','mahvolmus','kotu','sorun','problem','fena','abartili','acgozlu','adaletsiz','agresif','agzi bozuk','ahlak disi','ahlaksiz','ahmak','ahmakca','akillara zarar','akillanmaz','alayci','aptal','aptalca','ara bozucu','arsiz','art niyetli','asagilik',\n",
        "        'barbar','bombok','bozgun','bozuk','cani','cildirtici','cozumsuz','daginik','diktator','duzenbaz','duzensiz','eksik','eski','gecersiz','gulunc','gurultu','guvensiz','hadsiz','hain','hevessiz','iki yuzlu','istikrarsiz','islevsiz',\n",
        "        'kalitesiz','kansiz','karaktersiz','kirilgan','kiskanc','kisiliksiz','kof','korkutucu','korkunc','kullanissiz','limoni','madara','medeniyetsiz','olumsuz','plansiz','problem','ruhsuz','sapik','sarsak','sonucsuz','seytan',\n",
        "        'tecrubesiz','tekinsiz','tembel','temelsiz','terbiyesiz','ters ters','tertipsiz','tiksindirici','tutarsiz','ukala','utandirici','utanmaz','uyusuk','uyumsuz','uygunsuz','uyduruk','ustunkoru','usengec','uzucu','vahim','verimsiz',\n",
        "        'yalaka','yalanci','yanlis','yapmacik','yaltak','yaramaz','yararsiz','yilisik','yuz kizartici','asik yuzlu','yuzsuz','zararli','zevksiz','zevzek','zirdeli','zorba',\n",
        "        'acemi','agir aksak','agzi gevsek','anlayissiz','antipatik','asabi','asalak','asik suratli','asagilayici','avanak','azimsiz','bakimsiz','basiretsiz','basarisiz','beceriksiz','bencil','berbat','bilincsiz','bilmis bilmis',\n",
        "        'bilgisiz','boktan','bosbogaz','budala','burnu havada','cadaloz','bunaltici','can sikici','ciddiyetsiz','cenesi dusuk','cenesiz','cirkef','cirkin','cokbilmis','dalgaci','dalkavuk','dangalak','dar kafali','darmadaginik',\n",
        "        'dayaklik','deli','deneyimsiz','demode','degersiz','dedikoducu','despot','disiplinsiz','dikkatsiz','duyarsiz','dusman','duzensiz','eften puften','egitimsiz','embesil','engelli','eski kafali','ezik','felaket','gaddar','gammaz',\n",
        "        'gayretsiz','gorgusuz','gucsuz','hatali','hilebaz','hosgorusuz','hosnutsuz','huysuz','igrenc','ilkel','incitici','iradesiz','issiz','kaba','kafasiz','kalpsiz','kanunsuz','kirli','korkak','kustah','kusurlu','kompleksli']"
      ],
      "execution_count": 0,
      "outputs": []
    },
    {
      "cell_type": "code",
      "metadata": {
        "id": "MAYR5l4PT4Bt",
        "colab_type": "code",
        "colab": {}
      },
      "source": [
        "mislabeled_nouns = ['hizmet', 'urun', 'etiket', 'film'] "
      ],
      "execution_count": 0,
      "outputs": []
    },
    {
      "cell_type": "code",
      "metadata": {
        "id": "PEy9nvscT2qR",
        "colab_type": "code",
        "colab": {}
      },
      "source": [
        "tr_stops = ['a', 'acaba', 'alti', 'altmis', 'ama', 'ancak', 'arada', 'artik', 'aslinda', 'aslinda', 'ayrica', 'az', 'bana', 'bazen', 'bazi', 'bazilari', 'belki', 'ben', 'benden', 'beni',\n",
        "        'benim', 'beri', 'bes', 'bile', 'bilhassa', 'bin', 'bir', 'biraz', 'bircogu', 'bircok', 'biri', 'birisi', 'birkac', 'birsey', 'biz', 'bizden', 'bize', 'bizi', 'bizim', 'boyle', \n",
        "        'boylece', 'bu', 'buna', 'bunda', 'bundan', 'bunlar', 'bunlari', 'bunlarin', 'bunu', 'bunun', 'burada', 'butun', 'cogu', 'cogunu', 'cok', 'cunku', 'da', 'daha', 'dahi', 'dan',\n",
        "        'de', 'defa', 'diger', 'digeri', 'digerleri', 'diye', 'doksan', 'dokuz', 'dolayi', 'dolayisiyla', 'dort', 'e', 'eden', 'ederek', 'eger', 'elbette', 'elli', 'en', 'etmesi', \n",
        "        'ettigi', 'ettigini', 'fakat', 'falan', 'filan', 'gene', 'geregi', 'gerek', 'gibi', 'gore', 'hala', 'halde', 'halen', 'hangi', 'hangisi', 'hani', 'hatta', 'hem', 'henuz', 'hep', 'hepsi',\n",
        "        'her', 'herhangi', 'herkes', 'herkese', 'herkesi', 'herkesin', 'hic', 'hicbir', 'hicbiri', 'i', 'i', 'icin', 'icinde', 'iki', 'ile', 'ilgili', 'ise', 'iste', 'itibaren', 'itibariyle',\n",
        "        'kac', 'kadar', 'karsin', 'kendi', 'kendilerine', 'kendine', 'kendini', 'kendisi', 'kendisine', 'kendisini', 'kez', 'ki', 'kim', 'kime', 'kimi', 'kimin', 'kimisi', 'kimse', 'kirk', \n",
        "        'madem', 'mi', 'mi', 'milyar', 'milyon', 'mu', 'mu', 'nasil', 'ne', 'neden', 'nedenle', 'nerde', 'nerede', 'nereye', 'neyse', 'nicin', 'nin', 'nin', 'niye', 'nun', 'nun', 'o', 'obur', 'olan', \n",
        "        'olarak', 'oldugu', 'oldugunu', 'olduklarini', 'olmadigi', 'olmak', 'olmasi', 'olsa', 'olsun', 'olup', 'olursa', 'on', 'on', 'ona', 'once', 'ondan', 'onlar', 'onlara', 'onlardan', 'onlari', \n",
        "        'onlarin', 'onu', 'onun', 'orada', 'ote', 'oturu', 'otuz', 'oyle', 'oysa', 'pek', 'ragmen', 'sana', 'sanki', 'sanki', 'sayet', 'sekilde', 'sekiz', 'seksen', 'sen', 'senden', 'seni', 'senin',\n",
        "        'sey', 'seyden', 'seye', 'seyi', 'seyler', 'simdi', 'siz', 'siz', 'sizden', 'sizden', 'size', 'sizi', 'sizi', 'sizin', 'sizin', 'sonra', 'soyle', 'su', 'suna', 'sunlari', 'sunu', 'ta', 'tabii',\n",
        "        'tam', 'tamam', 'tamamen', 'tarafindan', 'trilyon', 'tum', 'tumu', 'u', 'u', 'uc', 'un', 'un', 'uzere', 'var', 'vardi', 've', 'veya', 'ya', 'yani', 'yapilan', 'yapilmasi', 'yapmak', 'yaptiklari',\n",
        "        'ye', 'yedi', 'yerine', 'yetmis', 'yi', 'yi', 'yine', 'yirmi', 'yoksa', 'yu', 'yuz', 'zaten', 'zira', 'film ', 'filmi ', 'filmin', 'filme', 'filmde', 'gibi', 'bu', 'ben', 'olan', 'diye', 'sadece',\n",
        "        'sonra', 'her', 'olarak', 'bne', 'bnm', 'bn', 'bnde', 'snde', 'orada', 'orda', 'surda','burda','surada', 'burada', 'orada']\n"
      ],
      "execution_count": 0,
      "outputs": []
    },
    {
      "cell_type": "markdown",
      "metadata": {
        "id": "DgXvqZKlNQb5",
        "colab_type": "text"
      },
      "source": [
        "# Preprocessing"
      ]
    },
    {
      "cell_type": "markdown",
      "metadata": {
        "id": "ojEMNjvJNcnL",
        "colab_type": "text"
      },
      "source": [
        "Remove special chars"
      ]
    },
    {
      "cell_type": "code",
      "metadata": {
        "id": "gmnSXtNqJgg4",
        "colab_type": "code",
        "colab": {}
      },
      "source": [
        "def remove_special_characters(entry):\n",
        "    entry = entry.lower()\n",
        "    entry = re.sub(r\"[^a-zA-Z ]+\", ' ', entry)\n",
        "    string_length=len(entry)+1    \n",
        "    string_revised=entry.ljust(string_length)\n",
        "    return entry"
      ],
      "execution_count": 0,
      "outputs": []
    },
    {
      "cell_type": "code",
      "metadata": {
        "id": "dWF1o21cJjij",
        "colab_type": "code",
        "colab": {}
      },
      "source": [
        "def convert_turkish_letters(entry):\n",
        "    entry = entry.lower()\n",
        "    entry = entry.replace('ş', 's')\n",
        "    entry = entry.replace('ı', 'i')\n",
        "    entry = entry.replace('ğ', 'g')\n",
        "    entry = entry.replace('ö', 'o')\n",
        "    entry = entry.replace('ç', 'c')\n",
        "    entry = entry.replace('ü', 'u')\n",
        "    return entry"
      ],
      "execution_count": 0,
      "outputs": []
    },
    {
      "cell_type": "code",
      "metadata": {
        "id": "TrsRIZVTjPLc",
        "colab_type": "code",
        "colab": {}
      },
      "source": [
        "def remove_stopwords(entry):\n",
        "    entry = ' '.join([word for word in entry.split() if word not in tr_stops])\n",
        "    return entry"
      ],
      "execution_count": 0,
      "outputs": []
    },
    {
      "cell_type": "code",
      "metadata": {
        "id": "138noSGYjVqq",
        "colab_type": "code",
        "colab": {}
      },
      "source": [
        "def remove_suffix(sentence):\n",
        "    entry = sentence\n",
        "    entry = entry.replace('sin ', ' ')\n",
        "    entry = entry.replace('sun ', ' ')\n",
        "    entry = entry.replace('imiz ', ' ')\n",
        "    entry = entry.replace('umuz ', ' ')\n",
        "    entry = entry.replace('ydi', ' ')\n",
        "    entry = entry.replace('ydu', ' ')\n",
        "    \n",
        "\n",
        "    entry = entry.replace('di  ', ' ')\n",
        "    entry = entry.replace('du  ', ' ')\n",
        "    entry = entry.replace('tir  ', ' ')\n",
        "    entry = entry.replace('tur  ', ' ')\n",
        "    entry = entry.replace('ti  ', ' ')\n",
        "    entry = entry.replace('tu  ', ' ')\n",
        "    entry = entry.replace('lar ', ' ')\n",
        "    entry = entry.replace('mus ', ' ')\n",
        "    entry = entry.replace('mis ',  ' ')\n",
        "    return entry"
      ],
      "execution_count": 0,
      "outputs": []
    },
    {
      "cell_type": "code",
      "metadata": {
        "id": "XNEXQMMQjc_E",
        "colab_type": "code",
        "colab": {}
      },
      "source": [
        "def remove_common_adjectives(entry):   \n",
        "    temp = convert_turkish_letters(entry)\n",
        "    temp = remove_special_characters(temp)\n",
        "    temp = remove_stopwords(temp)\n",
        "    temp = remove_suffix(temp)\n",
        "    splitted = temp.split()\n",
        "    \n",
        "    positive = [word for word in splitted if word in pos_adj]\n",
        "    negative = [word for word in splitted if word in neg_adj]\n",
        "    temp = re.sub(\"|\".join(pos_adj), \" \", temp)\n",
        "    temp = re.sub(\"|\".join(neg_adj), \" \", temp)\n",
        "    string_length=len(temp)+1    # will be adding 10 extra spaces\n",
        "    temp=temp.ljust(string_length)\n",
        "    \n",
        "    score = len(positive)-len(negative)\n",
        "    if score < 0:\n",
        "        score = 0\n",
        "    elif score > 0:\n",
        "        score = 1\n",
        "    else:\n",
        "        score = -1\n",
        "    return temp,score"
      ],
      "execution_count": 0,
      "outputs": []
    },
    {
      "cell_type": "code",
      "metadata": {
        "id": "DPNmlGgAIjk3",
        "colab_type": "code",
        "colab": {}
      },
      "source": [
        "data = pd.read_excel(r'/content/gdrive/My Drive/Ante/17bintweet/train_tweets.xlsx')\n",
        "data = data[['content','positivity']]\n",
        "data['content'] = data['content'].apply(lambda x: x.lower())\n",
        "data['content'] = data['content'].apply(lambda x: convert_turkish_letters(x))\n",
        "data['content'] = data['content'].apply(lambda x: ''.join(remove_stopwords(x)))\n",
        "data['content'] = data['content'].apply(lambda x: ''.join(remove_suffix(x)))\n",
        "data['content'] = data['content'].apply(lambda x: ''.join(remove_special_characters(x)))\n",
        "X_train, X_test, y_train, y_test = train_test_split(data['content'], data['positivity'], random_state = 0)"
      ],
      "execution_count": 0,
      "outputs": []
    },
    {
      "cell_type": "code",
      "metadata": {
        "id": "JGcL4MyZIm4w",
        "colab_type": "code",
        "outputId": "6b8fb102-71f0-413b-ddfd-427830a8152f",
        "colab": {
          "base_uri": "https://localhost:8080/",
          "height": 332
        }
      },
      "source": [
        "vect = CountVectorizer(min_df = 5, ngram_range = (1,2)).fit(X_train)\n",
        "X_train_vectorized = vect.transform(X_train)\n",
        "\n",
        "\n",
        "model = LogisticRegression()\n",
        "model.fit(X_train_vectorized, y_train)\n",
        "predictions = model.predict(vect.transform(X_test))\n",
        "feature_names = np.array(vect.get_feature_names())\n",
        "sorted_coef_index = model.coef_[0].argsort()\n",
        "sk_report = classification_report(\n",
        "    digits=6,\n",
        "    y_true=y_test.to_list(), \n",
        "    y_pred=predictions)\n",
        "print(sk_report)\n",
        "sk_report2 = confusion_matrix(\n",
        "    y_true=y_test.to_list(), \n",
        "    y_pred=predictions, labels = ['olumsuz','olumlu','notr'])\n",
        "print(sk_report2)"
      ],
      "execution_count": 256,
      "outputs": [
        {
          "output_type": "stream",
          "text": [
            "/usr/local/lib/python3.6/dist-packages/sklearn/linear_model/logistic.py:432: FutureWarning: Default solver will be changed to 'lbfgs' in 0.22. Specify a solver to silence this warning.\n",
            "  FutureWarning)\n",
            "/usr/local/lib/python3.6/dist-packages/sklearn/linear_model/logistic.py:469: FutureWarning: Default multi_class will be changed to 'auto' in 0.22. Specify the multi_class option to silence this warning.\n",
            "  \"this warning.\", FutureWarning)\n"
          ],
          "name": "stderr"
        },
        {
          "output_type": "stream",
          "text": [
            "              precision    recall  f1-score   support\n",
            "\n",
            "        notr   0.645963  0.617472  0.631396      1179\n",
            "      olumlu   0.684278  0.579694  0.627660       916\n",
            "     olumsuz   0.672026  0.766691  0.716244      1363\n",
            "\n",
            "    accuracy                       0.666281      3458\n",
            "   macro avg   0.667422  0.654619  0.658433      3458\n",
            "weighted avg   0.666385  0.666281  0.663850      3458\n",
            "\n",
            "[[1045  110  208]\n",
            " [ 194  531  191]\n",
            " [ 316  135  728]]\n"
          ],
          "name": "stdout"
        }
      ]
    },
    {
      "cell_type": "markdown",
      "metadata": {
        "id": "fvvSrPeNZQhD",
        "colab_type": "text"
      },
      "source": [
        "## Pos/Neg labeled words are weighted separately"
      ]
    },
    {
      "cell_type": "code",
      "metadata": {
        "id": "UBUsPSXMOkf7",
        "colab_type": "code",
        "colab": {}
      },
      "source": [
        "def analyzer(entry):\n",
        "    processed,v = remove_common_adjectives(entry)\n",
        "    result = model.predict(vect.transform([processed]))\n",
        "    p = result[0]\n",
        "    \n",
        "    print(p,v,processed)\n",
        "    if (p == 'olumsuz') and (v == 0):\n",
        "        return 'olumlu'\n",
        "    elif (p == 'olumsuz') and (v == 1):\n",
        "        return 'olumsuz'\n",
        "    elif (p == 'olumlu') and (v == 0):\n",
        "        return 'olumsuz'\n",
        "    elif (p == 'olumlu') and (v == 1):\n",
        "        return 'olumlu'\n",
        "    elif (p == 'notr') and (v == 1):\n",
        "        return 'olumlu'\n",
        "    elif (p == 'notr') and (v == 0):\n",
        "        return 'olumsuz'\n",
        "    else:\n",
        "        return p\n",
        "    return p"
      ],
      "execution_count": 0,
      "outputs": []
    },
    {
      "cell_type": "code",
      "metadata": {
        "id": "7Zj8kT93ZztP",
        "colab_type": "code",
        "colab": {}
      },
      "source": [
        "def predicter(entries):\n",
        "    res = []\n",
        "    for entry in entries:\n",
        "        processed,v = remove_common_adjectives(entry)\n",
        "        result = model.predict(vect.transform([processed]))\n",
        "        p = result[0]\n",
        "        if (p == 'olumsuz') and (v == 0):\n",
        "            res.append('olumlu')\n",
        "        elif (p == 'olumsuz') and (v == 1):\n",
        "            res.append('olumsuz')\n",
        "        elif (p == 'olumlu') and (v == 0):\n",
        "            res.append('olumsuz')\n",
        "        elif (p == 'olumlu') and (v == 1):\n",
        "            res.append('olumlu')\n",
        "        elif (p == 'notr') and (v == 1):\n",
        "            res.append('olumlu')\n",
        "        elif (p == 'notr') and (v == 0):\n",
        "            res.append('olumsuz')\n",
        "        else:\n",
        "            res.append(p)\n",
        "    return res\n",
        "    "
      ],
      "execution_count": 0,
      "outputs": []
    },
    {
      "cell_type": "code",
      "metadata": {
        "id": "tFbLw7H2hM9c",
        "colab_type": "code",
        "colab": {
          "base_uri": "https://localhost:8080/",
          "height": 243
        },
        "outputId": "6d5f385e-bd71-4679-988b-667c668c2925"
      },
      "source": [
        "sk_report = classification_report(\n",
        "    digits=6,\n",
        "    y_true=y_test.to_list(), \n",
        "    y_pred=predicter(X_test.to_list()))\n",
        "print(sk_report)\n",
        "sk_report2 = confusion_matrix(\n",
        "    y_true=y_test.to_list(), \n",
        "    y_pred=predicter(X_test.to_list()), labels = ['olumsuz','olumlu','notr'])\n",
        "print(sk_report2)\n"
      ],
      "execution_count": 259,
      "outputs": [
        {
          "output_type": "stream",
          "text": [
            "              precision    recall  f1-score   support\n",
            "\n",
            "        notr   0.625357  0.556404  0.588869      1179\n",
            "      olumlu   0.570588  0.529476  0.549264       916\n",
            "     olumsuz   0.633098  0.724138  0.675565      1363\n",
            "\n",
            "    accuracy                       0.615385      3458\n",
            "   macro avg   0.609681  0.603339  0.604566      3458\n",
            "weighted avg   0.613901  0.615385  0.612550      3458\n",
            "\n",
            "[[987 171 205]\n",
            " [243 485 188]\n",
            " [329 194 656]]\n"
          ],
          "name": "stdout"
        }
      ]
    },
    {
      "cell_type": "code",
      "metadata": {
        "id": "C329FEUfjss3",
        "colab_type": "code",
        "colab": {
          "base_uri": "https://localhost:8080/",
          "height": 716
        },
        "outputId": "dddb713d-3798-4282-fa52-5bdd4db6a515"
      },
      "source": [
        "def plot_confusion_matrix(y_true, y_pred, classes,\n",
        "                          normalize=False,\n",
        "                          title=None,\n",
        "                          cmap=plt.cm.Blues):\n",
        "    \"\"\"\n",
        "    This function prints and plots the confusion matrix.\n",
        "    Normalization can be applied by setting `normalize=True`.\n",
        "    \"\"\"\n",
        "    if not title:\n",
        "        if normalize:\n",
        "            title = 'Normalized confusion matrix'\n",
        "        else:\n",
        "            title = 'Confusion matrix, without normalization'\n",
        "\n",
        "    # Compute confusion matrix\n",
        "    cm = confusion_matrix(y_true, y_pred)\n",
        "    # Only use the labels that appear in the data\n",
        "    classes = ['olumsuz','olumlu','notr']\n",
        "    if normalize:\n",
        "        cm = cm.astype('float') / cm.sum(axis=1)[:, np.newaxis]\n",
        "        print(\"Normalized confusion matrix\")\n",
        "    else:\n",
        "        print('Confusion matrix, without normalization')\n",
        "\n",
        "    print(cm)\n",
        "\n",
        "    fig, ax = plt.pyplot.subplots()\n",
        "    im = ax.imshow(cm, interpolation='nearest', cmap=cmap)\n",
        "    ax.figure.colorbar(im, ax=ax)\n",
        "    # We want to show all ticks...\n",
        "    ax.set(xticks=np.arange(cm.shape[1]),\n",
        "           yticks=np.arange(cm.shape[0]),\n",
        "           # ... and label them with the respective list entries\n",
        "           xticklabels=classes, yticklabels=classes,\n",
        "           title=title,\n",
        "           ylabel='True label',\n",
        "           xlabel='Predicted label')\n",
        "\n",
        "    # Rotate the tick labels and set their alignment.\n",
        "    plt.pyplot.setp(ax.get_xticklabels(), rotation=45, ha=\"right\",\n",
        "             rotation_mode=\"anchor\")\n",
        "\n",
        "    # Loop over data dimensions and create text annotations.\n",
        "    fmt = '.2f' if normalize else 'd'\n",
        "    thresh = cm.max() / 2.\n",
        "    for i in range(cm.shape[0]):\n",
        "        for j in range(cm.shape[1]):\n",
        "            ax.text(j, i, format(cm[i, j], fmt),\n",
        "                    ha=\"center\", va=\"center\",\n",
        "                    color=\"white\" if cm[i, j] > thresh else \"black\")\n",
        "    fig.tight_layout()\n",
        "    return ax\n",
        "\n",
        "\n",
        "np.set_printoptions(precision=2)\n",
        "\n",
        "# Plot non-normalized confusion matrix\n",
        "plot_confusion_matrix(y_test.to_list(),predictions, classes=['olumsuz','olumlu','notr'],\n",
        "                      title='Confusion matrix, without normalization')\n",
        "\n",
        "# Plot normalized confusion matrix\n",
        "plot_confusion_matrix(y_test.to_list(), predictions, classes=['olumsuz','olumlu','notr'], normalize=True,\n",
        "                      title='Normalized confusion matrix')\n",
        "\n",
        "plt.pyplot.show()"
      ],
      "execution_count": 263,
      "outputs": [
        {
          "output_type": "stream",
          "text": [
            "Confusion matrix, without normalization\n",
            "[[ 728  135  316]\n",
            " [ 191  531  194]\n",
            " [ 208  110 1045]]\n",
            "Normalized confusion matrix\n",
            "[[0.62 0.11 0.27]\n",
            " [0.21 0.58 0.21]\n",
            " [0.15 0.08 0.77]]\n"
          ],
          "name": "stdout"
        },
        {
          "output_type": "display_data",
          "data": {
            "image/png": "[encoded data removed]",
            "text/plain": [
              "<Figure size 432x288 with 2 Axes>"
            ]
          },
          "metadata": {
            "tags": []
          }
        },
        {
          "output_type": "display_data",
          "data": {
            "image/png": "[encoded data removed]",
            "text/plain": [
              "<Figure size 432x288 with 2 Axes>"
            ]
          },
          "metadata": {
            "tags": []
          }
        }
      ]
    }
  ]
}